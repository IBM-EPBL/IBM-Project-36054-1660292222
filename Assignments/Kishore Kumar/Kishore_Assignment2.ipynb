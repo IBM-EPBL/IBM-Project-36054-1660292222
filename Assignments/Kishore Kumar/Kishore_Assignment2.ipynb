{
  "cells": [
    {
      "cell_type": "markdown",
      "metadata": {
        "id": "H9YcOcC4Ur9S"
      },
      "source": [
        "# **1. Download Dataset: Chrun_Modelling.csv**"
      ]
    },
    {
      "cell_type": "markdown",
      "metadata": {
        "id": "MBJc9aGWU5H1"
      },
      "source": [
        "# **2. Load The Dataset**"
      ]
    },
    {
      "cell_type": "code",
      "execution_count": null,
      "metadata": {
        "id": "iT3wgHrG100j"
      },
      "outputs": [
        {
          "ename": "",
          "evalue": "",
          "output_type": "error",
          "traceback": [
            "\u001b[1;31mRunning cells with 'Python 3.10.6 64-bit (microsoft store)' requires ipykernel package.\n",
            "\u001b[1;31mRun the following command to install 'ipykernel' into the Python environment. \n",
            "\u001b[1;31mCommand: 'c:/Users/heamn/AppData/Local/Microsoft/WindowsApps/python3.10.exe -m pip install ipykernel -U --force-reinstall'"
          ]
        }
      ],
      "source": [
        "import numpy as np\n",
        "import pandas as pd\n",
        "import seaborn as sns\n",
        "import matplotlib.pyplot as plt"
      ]
    },
    {
      "cell_type": "code",
      "execution_count": null,
      "metadata": {
        "colab": {
          "base_uri": "https://localhost:8080/",
          "height": 206
        },
        "id": "VzG2EoQL3Dqq",
        "outputId": "fb9665bc-2ea3-4874-b617-ad4cb9136eaf"
      },
      "outputs": [
        {
          "ename": "",
          "evalue": "",
          "output_type": "error",
          "traceback": [
            "\u001b[1;31mRunning cells with 'Python 3.10.6 64-bit (microsoft store)' requires ipykernel package.\n",
            "\u001b[1;31mRun the following command to install 'ipykernel' into the Python environment. \n",
            "\u001b[1;31mCommand: 'c:/Users/heamn/AppData/Local/Microsoft/WindowsApps/python3.10.exe -m pip install ipykernel -U --force-reinstall'"
          ]
        }
      ],
      "source": [
        "df = pd.read_csv('Churn_Modelling.csv')\n",
        "df.head()"
      ]
    },
    {
      "cell_type": "code",
      "execution_count": null,
      "metadata": {
        "colab": {
          "base_uri": "https://localhost:8080/",
          "height": 206
        },
        "id": "MoktqPVJi8WL",
        "outputId": "0d47e914-fccc-48e6-d207-583ec7e80256"
      },
      "outputs": [
        {
          "ename": "",
          "evalue": "",
          "output_type": "error",
          "traceback": [
            "\u001b[1;31mRunning cells with 'Python 3.10.6 64-bit (microsoft store)' requires ipykernel package.\n",
            "\u001b[1;31mRun the following command to install 'ipykernel' into the Python environment. \n",
            "\u001b[1;31mCommand: 'c:/Users/heamn/AppData/Local/Microsoft/WindowsApps/python3.10.exe -m pip install ipykernel -U --force-reinstall'"
          ]
        }
      ],
      "source": [
        "df = df.drop(columns=['RowNumber', 'CustomerId', 'Surname'])\n",
        "df.head()"
      ]
    },
    {
      "cell_type": "code",
      "execution_count": null,
      "metadata": {
        "id": "hQ_AbfjBpIvn"
      },
      "outputs": [
        {
          "ename": "",
          "evalue": "",
          "output_type": "error",
          "traceback": [
            "\u001b[1;31mRunning cells with 'Python 3.10.6 64-bit (microsoft store)' requires ipykernel package.\n",
            "\u001b[1;31mRun the following command to install 'ipykernel' into the Python environment. \n",
            "\u001b[1;31mCommand: 'c:/Users/heamn/AppData/Local/Microsoft/WindowsApps/python3.10.exe -m pip install ipykernel -U --force-reinstall'"
          ]
        }
      ],
      "source": [
        "df['IsActiveMember'] = df['IsActiveMember'].astype('category')\n",
        "df['Exited'] = df['Exited'].astype('category')\n",
        "df['HasCrCard'] = df['HasCrCard'].astype('category')"
      ]
    },
    {
      "cell_type": "markdown",
      "metadata": {
        "id": "fYJstayijHEr"
      },
      "source": [
        "# **3. Perform**\n",
        "# New Section\n",
        "# *   Univariate Analysis\n",
        "# *   Bi - Variate Analysis\n",
        "# *   Multi - Variate Analysis "
      ]
    },
    {
      "cell_type": "code",
      "execution_count": null,
      "metadata": {
        "colab": {
          "base_uri": "https://localhost:8080/",
          "height": 279
        },
        "id": "HhE_5unbrNf2",
        "outputId": "a0535e0e-e396-4013-bcbf-4c3e8905944d"
      },
      "outputs": [
        {
          "ename": "",
          "evalue": "",
          "output_type": "error",
          "traceback": [
            "\u001b[1;31mRunning cells with 'Python 3.10.6 64-bit (microsoft store)' requires ipykernel package.\n",
            "\u001b[1;31mRun the following command to install 'ipykernel' into the Python environment. \n",
            "\u001b[1;31mCommand: 'c:/Users/heamn/AppData/Local/Microsoft/WindowsApps/python3.10.exe -m pip install ipykernel -U --force-reinstall'"
          ]
        }
      ],
      "source": [
        "sns.kdeplot(x='CreditScore', data = df , hue = 'Exited')\n",
        "plt.show()"
      ]
    },
    {
      "cell_type": "code",
      "execution_count": null,
      "metadata": {
        "colab": {
          "base_uri": "https://localhost:8080/",
          "height": 374
        },
        "id": "noMcE4avj1-c",
        "outputId": "f7658c35-fd6b-4cd8-be5f-d06acd93c2c0"
      },
      "outputs": [
        {
          "ename": "",
          "evalue": "",
          "output_type": "error",
          "traceback": [
            "\u001b[1;31mRunning cells with 'Python 3.10.6 64-bit (microsoft store)' requires ipykernel package.\n",
            "\u001b[1;31mRun the following command to install 'ipykernel' into the Python environment. \n",
            "\u001b[1;31mCommand: 'c:/Users/heamn/AppData/Local/Microsoft/WindowsApps/python3.10.exe -m pip install ipykernel -U --force-reinstall'"
          ]
        }
      ],
      "source": [
        "density = df['Exited'].value_counts(normalize=True).reset_index()\n",
        "sns.barplot(data=density, x='index', y='Exited', );\n",
        "density"
      ]
    },
    {
      "cell_type": "code",
      "execution_count": null,
      "metadata": {
        "colab": {
          "base_uri": "https://localhost:8080/",
          "height": 441
        },
        "id": "uIbVAd16kATh",
        "outputId": "fcdfaca1-23ea-4847-d40a-1a01bffc9cb0"
      },
      "outputs": [
        {
          "ename": "",
          "evalue": "",
          "output_type": "error",
          "traceback": [
            "\u001b[1;31mRunning cells with 'Python 3.10.6 64-bit (microsoft store)' requires ipykernel package.\n",
            "\u001b[1;31mRun the following command to install 'ipykernel' into the Python environment. \n",
            "\u001b[1;31mCommand: 'c:/Users/heamn/AppData/Local/Microsoft/WindowsApps/python3.10.exe -m pip install ipykernel -U --force-reinstall'"
          ]
        }
      ],
      "source": [
        "categorical = df.drop(columns=['CreditScore', 'Age', 'Tenure', 'Balance', 'EstimatedSalary'])\n",
        "rows = int(np.ceil(categorical.shape[1] / 2)) - 1\n",
        "fig, axes = plt.subplots(nrows=rows, ncols=2, figsize=(10,6))\n",
        "axes = axes.flatten()\n",
        "\n",
        "for row in range(rows):\n",
        "    cols = min(2, categorical.shape[1] - row*2)\n",
        "    for col in range(cols):\n",
        "        col_name = categorical.columns[2 * row + col]\n",
        "        ax = axes[row*2 + col]       \n",
        "\n",
        "        sns.countplot(data=categorical, x=col_name, hue=\"Exited\", ax=ax);\n",
        "        \n",
        "plt.tight_layout()"
      ]
    },
    {
      "cell_type": "markdown",
      "metadata": {
        "id": "0A0FdvWPkZfw"
      },
      "source": [
        "# **4. Descriptive statistics** **bold text**"
      ]
    },
    {
      "cell_type": "code",
      "execution_count": null,
      "metadata": {
        "colab": {
          "base_uri": "https://localhost:8080/"
        },
        "id": "euuVs0b1kmsU",
        "outputId": "e54549ca-0bf2-413f-e759-440326e4c7f1"
      },
      "outputs": [
        {
          "ename": "",
          "evalue": "",
          "output_type": "error",
          "traceback": [
            "\u001b[1;31mRunning cells with 'Python 3.10.6 64-bit (microsoft store)' requires ipykernel package.\n",
            "\u001b[1;31mRun the following command to install 'ipykernel' into the Python environment. \n",
            "\u001b[1;31mCommand: 'c:/Users/heamn/AppData/Local/Microsoft/WindowsApps/python3.10.exe -m pip install ipykernel -U --force-reinstall'"
          ]
        }
      ],
      "source": [
        "df.info()"
      ]
    },
    {
      "cell_type": "code",
      "execution_count": null,
      "metadata": {
        "colab": {
          "base_uri": "https://localhost:8080/",
          "height": 300
        },
        "id": "JYNQwm8dko0c",
        "outputId": "8a7854da-d9a3-45ba-dbc9-341d05c9d6d4"
      },
      "outputs": [
        {
          "ename": "",
          "evalue": "",
          "output_type": "error",
          "traceback": [
            "\u001b[1;31mRunning cells with 'Python 3.10.6 64-bit (microsoft store)' requires ipykernel package.\n",
            "\u001b[1;31mRun the following command to install 'ipykernel' into the Python environment. \n",
            "\u001b[1;31mCommand: 'c:/Users/heamn/AppData/Local/Microsoft/WindowsApps/python3.10.exe -m pip install ipykernel -U --force-reinstall'"
          ]
        }
      ],
      "source": [
        "df.describe()"
      ]
    },
    {
      "cell_type": "markdown",
      "metadata": {
        "id": "4mCjzkWwkzkO"
      },
      "source": [
        "# **5. Handle Missing Values**"
      ]
    },
    {
      "cell_type": "code",
      "execution_count": null,
      "metadata": {
        "colab": {
          "base_uri": "https://localhost:8080/"
        },
        "id": "54c6m6xUktD7",
        "outputId": "877bd0cc-6b52-4a52-dd40-11674c40fd59"
      },
      "outputs": [
        {
          "ename": "",
          "evalue": "",
          "output_type": "error",
          "traceback": [
            "\u001b[1;31mRunning cells with 'Python 3.10.6 64-bit (microsoft store)' requires ipykernel package.\n",
            "\u001b[1;31mRun the following command to install 'ipykernel' into the Python environment. \n",
            "\u001b[1;31mCommand: 'c:/Users/heamn/AppData/Local/Microsoft/WindowsApps/python3.10.exe -m pip install ipykernel -U --force-reinstall'"
          ]
        }
      ],
      "source": [
        "df.isna().sum()"
      ]
    },
    {
      "cell_type": "markdown",
      "metadata": {
        "id": "z2W5dbHOkzWL"
      },
      "source": [
        "# In this dataset there is no missing values"
      ]
    },
    {
      "cell_type": "markdown",
      "metadata": {
        "id": "BCEeZ0lbmAMd"
      },
      "source": [
        "# **6. Find the outliers and replace the outliers**"
      ]
    },
    {
      "cell_type": "markdown",
      "metadata": {
        "id": "9UfEIrmPmitY"
      },
      "source": [
        "# **Finding Outliers**"
      ]
    },
    {
      "cell_type": "code",
      "execution_count": null,
      "metadata": {
        "id": "Ktg8Lxkllevz"
      },
      "outputs": [
        {
          "ename": "",
          "evalue": "",
          "output_type": "error",
          "traceback": [
            "\u001b[1;31mRunning cells with 'Python 3.10.6 64-bit (microsoft store)' requires ipykernel package.\n",
            "\u001b[1;31mRun the following command to install 'ipykernel' into the Python environment. \n",
            "\u001b[1;31mCommand: 'c:/Users/heamn/AppData/Local/Microsoft/WindowsApps/python3.10.exe -m pip install ipykernel -U --force-reinstall'"
          ]
        }
      ],
      "source": [
        "def box_scatter(data, x, y):    \n",
        "    fig, (ax1, ax2) = plt.subplots(nrows=2, ncols=1, figsize=(16,6))\n",
        "    sns.boxplot(data=data, x=x, ax=ax1)\n",
        "    sns.scatterplot(data=data, x=x,y=y,ax=ax2)"
      ]
    },
    {
      "cell_type": "code",
      "execution_count": null,
      "metadata": {
        "colab": {
          "base_uri": "https://localhost:8080/",
          "height": 459
        },
        "id": "vd83dEvLmroh",
        "outputId": "8cd0f679-8553-48fa-b7a2-404998879445"
      },
      "outputs": [
        {
          "ename": "",
          "evalue": "",
          "output_type": "error",
          "traceback": [
            "\u001b[1;31mRunning cells with 'Python 3.10.6 64-bit (microsoft store)' requires ipykernel package.\n",
            "\u001b[1;31mRun the following command to install 'ipykernel' into the Python environment. \n",
            "\u001b[1;31mCommand: 'c:/Users/heamn/AppData/Local/Microsoft/WindowsApps/python3.10.exe -m pip install ipykernel -U --force-reinstall'"
          ]
        }
      ],
      "source": [
        "box_scatter(df,'CreditScore','Exited');\n",
        "plt.tight_layout()\n",
        "print(f\"# of Bivariate Outliers: {len(df.loc[df['CreditScore'] < 400])}\")"
      ]
    },
    {
      "cell_type": "code",
      "execution_count": null,
      "metadata": {
        "colab": {
          "base_uri": "https://localhost:8080/",
          "height": 459
        },
        "id": "AKCWSZDemvLT",
        "outputId": "1f97e3c4-484c-434f-c0ea-bdf4f601b734"
      },
      "outputs": [
        {
          "ename": "",
          "evalue": "",
          "output_type": "error",
          "traceback": [
            "\u001b[1;31mRunning cells with 'Python 3.10.6 64-bit (microsoft store)' requires ipykernel package.\n",
            "\u001b[1;31mRun the following command to install 'ipykernel' into the Python environment. \n",
            "\u001b[1;31mCommand: 'c:/Users/heamn/AppData/Local/Microsoft/WindowsApps/python3.10.exe -m pip install ipykernel -U --force-reinstall'"
          ]
        }
      ],
      "source": [
        "box_scatter(df,'Age','Exited');\n",
        "plt.tight_layout()\n",
        "print(f\"# of Bivariate Outliers: {len(df.loc[df['Age'] > 87])}\")"
      ]
    },
    {
      "cell_type": "code",
      "execution_count": null,
      "metadata": {
        "colab": {
          "base_uri": "https://localhost:8080/",
          "height": 459
        },
        "id": "T0BY4QUDm1VE",
        "outputId": "ce87d63a-b551-46b9-9031-2a28c5aaec03"
      },
      "outputs": [
        {
          "ename": "",
          "evalue": "",
          "output_type": "error",
          "traceback": [
            "\u001b[1;31mRunning cells with 'Python 3.10.6 64-bit (microsoft store)' requires ipykernel package.\n",
            "\u001b[1;31mRun the following command to install 'ipykernel' into the Python environment. \n",
            "\u001b[1;31mCommand: 'c:/Users/heamn/AppData/Local/Microsoft/WindowsApps/python3.10.exe -m pip install ipykernel -U --force-reinstall'"
          ]
        }
      ],
      "source": [
        "box_scatter(df,'Balance','Exited');\n",
        "plt.tight_layout()\n",
        "print(f\"# of Bivariate Outliers: {len(df.loc[df['Balance'] > 220000])}\")"
      ]
    },
    {
      "cell_type": "code",
      "execution_count": null,
      "metadata": {
        "colab": {
          "base_uri": "https://localhost:8080/",
          "height": 441
        },
        "id": "wOneIIW8m50d",
        "outputId": "3572d718-5076-4a27-cb6c-d72c7fabd547"
      },
      "outputs": [
        {
          "ename": "",
          "evalue": "",
          "output_type": "error",
          "traceback": [
            "\u001b[1;31mRunning cells with 'Python 3.10.6 64-bit (microsoft store)' requires ipykernel package.\n",
            "\u001b[1;31mRun the following command to install 'ipykernel' into the Python environment. \n",
            "\u001b[1;31mCommand: 'c:/Users/heamn/AppData/Local/Microsoft/WindowsApps/python3.10.exe -m pip install ipykernel -U --force-reinstall'"
          ]
        }
      ],
      "source": [
        "box_scatter(df,'EstimatedSalary','Exited');\n",
        "plt.tight_layout()"
      ]
    },
    {
      "cell_type": "markdown",
      "metadata": {
        "id": "IPV0jWh8m_5N"
      },
      "source": [
        "# **Removing The Outliers**"
      ]
    },
    {
      "cell_type": "code",
      "execution_count": null,
      "metadata": {
        "id": "87nBIkjCm83B"
      },
      "outputs": [
        {
          "ename": "",
          "evalue": "",
          "output_type": "error",
          "traceback": [
            "\u001b[1;31mRunning cells with 'Python 3.10.6 64-bit (microsoft store)' requires ipykernel package.\n",
            "\u001b[1;31mRun the following command to install 'ipykernel' into the Python environment. \n",
            "\u001b[1;31mCommand: 'c:/Users/heamn/AppData/Local/Microsoft/WindowsApps/python3.10.exe -m pip install ipykernel -U --force-reinstall'"
          ]
        }
      ],
      "source": [
        "for i in df:\n",
        "    if df[i].dtype=='int64' or df[i].dtypes=='float64':\n",
        "        q1=df[i].quantile(0.25)\n",
        "        q3=df[i].quantile(0.75)\n",
        "        iqr=q3-q1\n",
        "        upper=q3+1.5*iqr\n",
        "        lower=q1-1.5*iqr\n",
        "        df[i]=np.where(df[i] >upper, upper, df[i])\n",
        "        df[i]=np.where(df[i] <lower, lower, df[i])"
      ]
    },
    {
      "cell_type": "code",
      "execution_count": null,
      "metadata": {
        "colab": {
          "base_uri": "https://localhost:8080/",
          "height": 459
        },
        "id": "O929u5W5nKnm",
        "outputId": "5d99e1b6-30f5-4139-b639-5604eabd8dfb"
      },
      "outputs": [
        {
          "ename": "",
          "evalue": "",
          "output_type": "error",
          "traceback": [
            "\u001b[1;31mRunning cells with 'Python 3.10.6 64-bit (microsoft store)' requires ipykernel package.\n",
            "\u001b[1;31mRun the following command to install 'ipykernel' into the Python environment. \n",
            "\u001b[1;31mCommand: 'c:/Users/heamn/AppData/Local/Microsoft/WindowsApps/python3.10.exe -m pip install ipykernel -U --force-reinstall'"
          ]
        }
      ],
      "source": [
        "box_scatter(df,'CreditScore','Exited');\n",
        "plt.tight_layout()\n",
        "print(f\"# of Bivariate Outliers: {len(df.loc[df['CreditScore'] < 400])}\")"
      ]
    },
    {
      "cell_type": "code",
      "execution_count": null,
      "metadata": {
        "colab": {
          "base_uri": "https://localhost:8080/",
          "height": 459
        },
        "id": "Rr4ohRpfnYPP",
        "outputId": "d9de4b36-eb22-40a2-d1fb-d1202e0c11a0"
      },
      "outputs": [
        {
          "ename": "",
          "evalue": "",
          "output_type": "error",
          "traceback": [
            "\u001b[1;31mRunning cells with 'Python 3.10.6 64-bit (microsoft store)' requires ipykernel package.\n",
            "\u001b[1;31mRun the following command to install 'ipykernel' into the Python environment. \n",
            "\u001b[1;31mCommand: 'c:/Users/heamn/AppData/Local/Microsoft/WindowsApps/python3.10.exe -m pip install ipykernel -U --force-reinstall'"
          ]
        }
      ],
      "source": [
        "box_scatter(df,'Age','Exited');\n",
        "plt.tight_layout()\n",
        "print(f\"# of Bivariate Outliers: {len(df.loc[df['Age'] > 87])}\")"
      ]
    },
    {
      "cell_type": "code",
      "execution_count": null,
      "metadata": {
        "colab": {
          "base_uri": "https://localhost:8080/",
          "height": 459
        },
        "id": "wwAzaXZYnQmE",
        "outputId": "f1e2395b-806a-4e03-a0ce-39cd31e7c384"
      },
      "outputs": [
        {
          "ename": "",
          "evalue": "",
          "output_type": "error",
          "traceback": [
            "\u001b[1;31mRunning cells with 'Python 3.10.6 64-bit (microsoft store)' requires ipykernel package.\n",
            "\u001b[1;31mRun the following command to install 'ipykernel' into the Python environment. \n",
            "\u001b[1;31mCommand: 'c:/Users/heamn/AppData/Local/Microsoft/WindowsApps/python3.10.exe -m pip install ipykernel -U --force-reinstall'"
          ]
        }
      ],
      "source": [
        "box_scatter(df,'Balance','Exited');\n",
        "plt.tight_layout()\n",
        "print(f\"# of Bivariate Outliers: {len(df.loc[df['Balance'] > 220000])}\")"
      ]
    },
    {
      "cell_type": "markdown",
      "metadata": {
        "id": "ajOiANDRnjlM"
      },
      "source": [
        "# **7. Check for Categorical columns and perform encoding.**"
      ]
    },
    {
      "cell_type": "code",
      "execution_count": null,
      "metadata": {
        "id": "bvSzhpjqnTGV"
      },
      "outputs": [
        {
          "ename": "",
          "evalue": "",
          "output_type": "error",
          "traceback": [
            "\u001b[1;31mRunning cells with 'Python 3.10.6 64-bit (microsoft store)' requires ipykernel package.\n",
            "\u001b[1;31mRun the following command to install 'ipykernel' into the Python environment. \n",
            "\u001b[1;31mCommand: 'c:/Users/heamn/AppData/Local/Microsoft/WindowsApps/python3.10.exe -m pip install ipykernel -U --force-reinstall'"
          ]
        }
      ],
      "source": [
        "from sklearn.preprocessing import LabelEncoder\n",
        "encoder=LabelEncoder()\n",
        "for i in df:\n",
        "    if df[i].dtype=='object' or df[i].dtype=='category':\n",
        "        df[i]=encoder.fit_transform(df[i])"
      ]
    },
    {
      "cell_type": "markdown",
      "metadata": {
        "id": "ujBSVwv2nurC"
      },
      "source": [
        "# **8. Split the data into dependent and independent variables.**"
      ]
    },
    {
      "cell_type": "code",
      "execution_count": null,
      "metadata": {
        "colab": {
          "base_uri": "https://localhost:8080/",
          "height": 206
        },
        "id": "u0eoEdY7nzfh",
        "outputId": "56eddc82-bf06-4cfa-9cbb-3dcbd7332129"
      },
      "outputs": [
        {
          "ename": "",
          "evalue": "",
          "output_type": "error",
          "traceback": [
            "\u001b[1;31mRunning cells with 'Python 3.10.6 64-bit (microsoft store)' requires ipykernel package.\n",
            "\u001b[1;31mRun the following command to install 'ipykernel' into the Python environment. \n",
            "\u001b[1;31mCommand: 'c:/Users/heamn/AppData/Local/Microsoft/WindowsApps/python3.10.exe -m pip install ipykernel -U --force-reinstall'"
          ]
        }
      ],
      "source": [
        "x=df.iloc[:,:-1]\n",
        "x.head()"
      ]
    },
    {
      "cell_type": "code",
      "execution_count": null,
      "metadata": {
        "colab": {
          "base_uri": "https://localhost:8080/"
        },
        "id": "3n_xQDYGn3zh",
        "outputId": "b6956022-c306-4e4d-ff42-fe2d4287c9aa"
      },
      "outputs": [
        {
          "ename": "",
          "evalue": "",
          "output_type": "error",
          "traceback": [
            "\u001b[1;31mRunning cells with 'Python 3.10.6 64-bit (microsoft store)' requires ipykernel package.\n",
            "\u001b[1;31mRun the following command to install 'ipykernel' into the Python environment. \n",
            "\u001b[1;31mCommand: 'c:/Users/heamn/AppData/Local/Microsoft/WindowsApps/python3.10.exe -m pip install ipykernel -U --force-reinstall'"
          ]
        }
      ],
      "source": [
        "y=df.iloc[:,-1]\n",
        "y.head()"
      ]
    },
    {
      "cell_type": "markdown",
      "metadata": {
        "id": "YCD5xvihoD7K"
      },
      "source": [
        "# **9. Scale the independent variables**"
      ]
    },
    {
      "cell_type": "code",
      "execution_count": null,
      "metadata": {
        "colab": {
          "base_uri": "https://localhost:8080/"
        },
        "id": "t6AXMxT4oHK9",
        "outputId": "44735602-493a-4120-9cc8-273a4ff210b9"
      },
      "outputs": [
        {
          "ename": "",
          "evalue": "",
          "output_type": "error",
          "traceback": [
            "\u001b[1;31mRunning cells with 'Python 3.10.6 64-bit (microsoft store)' requires ipykernel package.\n",
            "\u001b[1;31mRun the following command to install 'ipykernel' into the Python environment. \n",
            "\u001b[1;31mCommand: 'c:/Users/heamn/AppData/Local/Microsoft/WindowsApps/python3.10.exe -m pip install ipykernel -U --force-reinstall'"
          ]
        }
      ],
      "source": [
        "from sklearn.preprocessing import StandardScaler\n",
        "scaler=StandardScaler()\n",
        "x=scaler.fit_transform(x)\n",
        "print(x)"
      ]
    },
    {
      "cell_type": "markdown",
      "metadata": {
        "id": "EnnC72gboUIf"
      },
      "source": [
        "# **10. Split the data into training and testing.**"
      ]
    },
    {
      "cell_type": "code",
      "execution_count": null,
      "metadata": {
        "id": "KEp7hY4zoNv6"
      },
      "outputs": [
        {
          "ename": "",
          "evalue": "",
          "output_type": "error",
          "traceback": [
            "\u001b[1;31mRunning cells with 'Python 3.10.6 64-bit (microsoft store)' requires ipykernel package.\n",
            "\u001b[1;31mRun the following command to install 'ipykernel' into the Python environment. \n",
            "\u001b[1;31mCommand: 'c:/Users/heamn/AppData/Local/Microsoft/WindowsApps/python3.10.exe -m pip install ipykernel -U --force-reinstall'"
          ]
        }
      ],
      "source": [
        "from sklearn.model_selection import train_test_split\n",
        "x_train,x_test,y_train,y_test=train_test_split(x,y,test_size=0.20)"
      ]
    },
    {
      "cell_type": "code",
      "execution_count": null,
      "metadata": {
        "colab": {
          "base_uri": "https://localhost:8080/"
        },
        "id": "HvBcPcvQofYy",
        "outputId": "d4e0d66e-c263-4460-acb3-6b2885cf516a"
      },
      "outputs": [
        {
          "ename": "",
          "evalue": "",
          "output_type": "error",
          "traceback": [
            "\u001b[1;31mRunning cells with 'Python 3.10.6 64-bit (microsoft store)' requires ipykernel package.\n",
            "\u001b[1;31mRun the following command to install 'ipykernel' into the Python environment. \n",
            "\u001b[1;31mCommand: 'c:/Users/heamn/AppData/Local/Microsoft/WindowsApps/python3.10.exe -m pip install ipykernel -U --force-reinstall'"
          ]
        }
      ],
      "source": [
        "print(x_train.shape)\n",
        "print(x_test.shape)"
      ]
    },
    {
      "cell_type": "code",
      "execution_count": null,
      "metadata": {
        "colab": {
          "base_uri": "https://localhost:8080/"
        },
        "id": "Dm871RB1ouB7",
        "outputId": "2e364440-bceb-4047-c603-d03c90a21c5f"
      },
      "outputs": [
        {
          "ename": "",
          "evalue": "",
          "output_type": "error",
          "traceback": [
            "\u001b[1;31mRunning cells with 'Python 3.10.6 64-bit (microsoft store)' requires ipykernel package.\n",
            "\u001b[1;31mRun the following command to install 'ipykernel' into the Python environment. \n",
            "\u001b[1;31mCommand: 'c:/Users/heamn/AppData/Local/Microsoft/WindowsApps/python3.10.exe -m pip install ipykernel -U --force-reinstall'"
          ]
        }
      ],
      "source": [
        "print(y_train.shape)\n",
        "print(y_test.shape)"
      ]
    }
  ],
  "metadata": {
    "colab": {
      "provenance": []
    },
    "kernelspec": {
      "display_name": "Python 3.10.6 64-bit (microsoft store)",
      "language": "python",
      "name": "python3"
    },
    "language_info": {
      "codemirror_mode": {
        "name": "ipython",
        "version": 3
      },
      "file_extension": ".py",
      "mimetype": "text/x-python",
      "name": "python",
      "nbconvert_exporter": "python",
      "pygments_lexer": "ipython3",
      "version": "3.10.6"
    },
    "vscode": {
      "interpreter": {
        "hash": "34078b379ff485468ad1addfb1e8be0288ab5d5d1b19979342705b8c8d73f38f"
      }
    }
  },
  "nbformat": 4,
  "nbformat_minor": 0
}
